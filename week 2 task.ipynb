{
 "cells": [
  {
   "cell_type": "markdown",
   "id": "b59d50c9",
   "metadata": {},
   "source": [
    "<font color='blue'>A-Write a Python program to check if a number is a perfect square\n",
    "\n",
    "________________________________________________________________________________________________"
   ]
  },
  {
   "cell_type": "code",
   "execution_count": 1,
   "id": "0947beba",
   "metadata": {},
   "outputs": [],
   "source": [
    "def perf_sq(num):\n",
    "    for i in range(0, num//2):\n",
    "        if(i == (num ** 0.5)):\n",
    "            return True\n",
    "    return False"
   ]
  },
  {
   "cell_type": "code",
   "execution_count": 2,
   "id": "006eb6b0",
   "metadata": {},
   "outputs": [
    {
     "name": "stdout",
     "output_type": "stream",
     "text": [
      "Enter a number to check if it is a perfect square: 25\n",
      "25 is a perfect square\n"
     ]
    }
   ],
   "source": [
    "num = int(input('Enter a number to check if it is a perfect square: '))\n",
    "if perf_sq(num): \n",
    "    print(f'{num} is a perfect square') \n",
    "else:\n",
    "    print(f'{num} is not a perfect square')"
   ]
  },
  {
   "cell_type": "markdown",
   "id": "28ba1177",
   "metadata": {},
   "source": [
    "<font color='blue'> B- Write a Python program to find a missing number from a list. \n",
    "\n",
    "<font color='blue'> Input : [1,2,3,4,6,7,8]\n",
    "\n",
    "<font color='blue'> Output : 5\n",
    "________________________________________________________________________________________________\n"
   ]
  },
  {
   "cell_type": "code",
   "execution_count": 3,
   "id": "5008dfe0",
   "metadata": {},
   "outputs": [],
   "source": [
    "def summation_of_list(num):\n",
    "    suml = (num*(num+1))//2 \n",
    "    return suml"
   ]
  },
  {
   "cell_type": "code",
   "execution_count": 4,
   "id": "f1125512",
   "metadata": {},
   "outputs": [
    {
     "name": "stdout",
     "output_type": "stream",
     "text": [
      "6 is the missing number\n"
     ]
    }
   ],
   "source": [
    "l = [1,2,3,4,5,7,8,9]\n",
    "summation_n = summation_of_list(len(l)+1)\n",
    "summation_l = 0\n",
    "for i in l:\n",
    "    summation_l += i\n",
    "diff = summation_n - summation_l\n",
    "print(diff, 'is the missing number')"
   ]
  },
  {
   "cell_type": "markdown",
   "id": "f18eec85",
   "metadata": {},
   "source": [
    "<font color = 'blue'> C- Write a Python program to find the single number in a list that doesn't occur twice.\n",
    "\n",
    "<font color = 'blue'> Input : [5, 3, 4, 3, 4]\n",
    "\n",
    "<font color = 'blue'> Output : 5\n",
    "_________________________________________________________________________________________________________________"
   ]
  },
  {
   "cell_type": "code",
   "execution_count": 5,
   "id": "7cf003e5",
   "metadata": {},
   "outputs": [
    {
     "name": "stdout",
     "output_type": "stream",
     "text": [
      "5 is the element that doesn't occur twice\n"
     ]
    }
   ],
   "source": [
    "l = [5, 3, 4, 3, 4]\n",
    "s = set()\n",
    "e = []\n",
    "\n",
    "# using set()\n",
    "# for i in l:\n",
    "#     if i in s:\n",
    "#         s.remove(i)\n",
    "#     else:\n",
    "#         s.add(i)\n",
    "# for e in s:\n",
    "#     print(e, \"is the element that doesn't occur twice\")\n",
    "\n",
    "# using extra list()\n",
    "for i in l:\n",
    "    if i in e:\n",
    "        e.remove(i)\n",
    "    else:\n",
    "        e.append(i)\n",
    "for ele in e:\n",
    "    print(ele, \"is the element that doesn't occur twice\")"
   ]
  }
 ],
 "metadata": {
  "kernelspec": {
   "display_name": "Python 3 (ipykernel)",
   "language": "python",
   "name": "python3"
  },
  "language_info": {
   "codemirror_mode": {
    "name": "ipython",
    "version": 3
   },
   "file_extension": ".py",
   "mimetype": "text/x-python",
   "name": "python",
   "nbconvert_exporter": "python",
   "pygments_lexer": "ipython3",
   "version": "3.11.5"
  }
 },
 "nbformat": 4,
 "nbformat_minor": 5
}
