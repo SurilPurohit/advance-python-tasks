{
 "cells": [
  {
   "cell_type": "markdown",
   "id": "144ec49d",
   "metadata": {},
   "source": [
    "### Write a Python program to find the single element in a list where every element appears multiple times except for one.\n",
    "Input : [5, 3, 4, 3, 5, 5, 3],\n",
    "\n",
    "Output : 4"
   ]
  },
  {
   "cell_type": "code",
   "execution_count": 2,
   "id": "24a43a57",
   "metadata": {},
   "outputs": [
    {
     "name": "stdout",
     "output_type": "stream",
     "text": [
      "4\n"
     ]
    }
   ],
   "source": [
    "l = [5, 3, 4, 3, 5, 5, 3]\n",
    "d = {}\n",
    "for i in l:\n",
    "    d[i] = d.get(i, 0) + 1\n",
    "for key in d:\n",
    "    if d[key] == 1:\n",
    "        print(key)"
   ]
  },
  {
   "cell_type": "markdown",
   "id": "6e7070d9",
   "metadata": {},
   "source": [
    "### Write a Python program to compute and return the square root of a given 'integer'. \n",
    "Input : 16\n",
    "\n",
    "Output : 4\n",
    "\n",
    "Note : The returned value will be an 'integer', do not use square root functions from python."
   ]
  },
  {
   "cell_type": "code",
   "execution_count": 9,
   "id": "df58e8d5",
   "metadata": {},
   "outputs": [
    {
     "name": "stdout",
     "output_type": "stream",
     "text": [
      "Enter a number: 49\n",
      "7\n"
     ]
    }
   ],
   "source": [
    "n = int(input('Enter a number: '))\n",
    "for i in range(1, int(n/2)):\n",
    "    if i == int(n**0.5):\n",
    "        print(i)"
   ]
  },
  {
   "cell_type": "markdown",
   "id": "f635a9b4",
   "metadata": {},
   "source": [
    "### Write a Python program to check a sequence of numbers is a geometric progression or not. \n",
    "Input : [2, 6, 18, 54]\n",
    "\n",
    "Output : True"
   ]
  },
  {
   "cell_type": "code",
   "execution_count": 41,
   "id": "6d312ffd",
   "metadata": {},
   "outputs": [
    {
     "name": "stdout",
     "output_type": "stream",
     "text": [
      "True\n"
     ]
    }
   ],
   "source": [
    "def gp(l):\n",
    "    n = len(l)\n",
    "    a = l[0]\n",
    "    r = l[1]/l[0]\n",
    "    total = a\n",
    "    if n == 2:\n",
    "        return True\n",
    "    \n",
    "    for i in range(1, n):\n",
    "        total = total * r\n",
    "        if l[i] == total:\n",
    "            continue\n",
    "        else:\n",
    "            return False\n",
    "    return True\n",
    "        \n",
    "l = [2, 6, 18, 54]\n",
    "print(gp(l))"
   ]
  }
 ],
 "metadata": {
  "kernelspec": {
   "display_name": "Python 3 (ipykernel)",
   "language": "python",
   "name": "python3"
  },
  "language_info": {
   "codemirror_mode": {
    "name": "ipython",
    "version": 3
   },
   "file_extension": ".py",
   "mimetype": "text/x-python",
   "name": "python",
   "nbconvert_exporter": "python",
   "pygments_lexer": "ipython3",
   "version": "3.11.5"
  }
 },
 "nbformat": 4,
 "nbformat_minor": 5
}
