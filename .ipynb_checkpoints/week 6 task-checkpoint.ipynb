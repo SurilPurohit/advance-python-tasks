{
 "cells": [
  {
   "cell_type": "markdown",
   "id": "bb0732e4",
   "metadata": {},
   "source": [
    "### 1-Write a Python program to check a sequence of numbers is an arithmetic progression or not. \n",
    "\n",
    "### Input : [5, 7, 9, 11] \n",
    "\n",
    "### Output : True \n",
    "\n",
    "### In mathematics, an arithmetic progression or arithmetic sequence is a sequence of numbers such that the difference between the consecutive terms is constant. For example, the sequence 5, 7, 9, 11, 13, 15 ... is an arithmetic progression with common difference of 2."
   ]
  },
  {
   "cell_type": "code",
   "execution_count": 8,
   "id": "b0282b1d",
   "metadata": {},
   "outputs": [
    {
     "name": "stdout",
     "output_type": "stream",
     "text": [
      "True\n"
     ]
    }
   ],
   "source": [
    "def check(l):\n",
    "    d = l[1] - l[0]\n",
    "    for i in range(1, len(l)-1):\n",
    "        if l[i+1] - l[i] != d:\n",
    "            return False\n",
    "    return True\n",
    "\n",
    "l = [5,7,9,11]\n",
    "print(check(l))"
   ]
  },
  {
   "cell_type": "markdown",
   "id": "3e2e254a",
   "metadata": {},
   "source": [
    "### 2-Write a Python program to check whether a given number is an ugly number. \n",
    "### Input : 12 \n",
    "### Output : True \n",
    "### Ugly numbers are positive numbers whose only prime factors are 2, 3 or 5. The sequence 1, 2, 3, 4, 5, 6, 8, 9, 10, 12, ... shows the first 10 ugly numbers. Note: 1 is typically treated as an ugly number"
   ]
  },
  {
   "cell_type": "code",
   "execution_count": 29,
   "id": "80f67cfb",
   "metadata": {},
   "outputs": [
    {
     "name": "stdout",
     "output_type": "stream",
     "text": [
      "True\n"
     ]
    }
   ],
   "source": [
    "def ugly_no(no):\n",
    "    if no == 0:\n",
    "        return False\n",
    "    for i in [2,3,5]:\n",
    "        while no % i == 0:\n",
    "            no /= i\n",
    "    return no == 1\n",
    "\n",
    "print(ugly_no(12))"
   ]
  },
  {
   "cell_type": "markdown",
   "id": "facd465e",
   "metadata": {},
   "source": [
    "### 3-Write a Python Function to find the single number in a list that doesn't occur n times. \n",
    "\n",
    "### Input : [5, 3,3,4, 4, 3, 4], N=3 \n",
    "\n",
    "### Output : 5"
   ]
  },
  {
   "cell_type": "code",
   "execution_count": 18,
   "id": "a446576c",
   "metadata": {},
   "outputs": [
    {
     "name": "stdout",
     "output_type": "stream",
     "text": [
      "5\n"
     ]
    }
   ],
   "source": [
    "def single_num(l, n):\n",
    "    d = {}\n",
    "    for i in l:\n",
    "        d[i] = d.get(i, 0) + 1\n",
    "    for key in d:\n",
    "        if d[key] != n:\n",
    "            return key\n",
    "\n",
    "l = [5, 3, 3, 4, 4, 3, 4]\n",
    "n = 3\n",
    "print(single_num(l, n))"
   ]
  }
 ],
 "metadata": {
  "kernelspec": {
   "display_name": "Python 3 (ipykernel)",
   "language": "python",
   "name": "python3"
  },
  "language_info": {
   "codemirror_mode": {
    "name": "ipython",
    "version": 3
   },
   "file_extension": ".py",
   "mimetype": "text/x-python",
   "name": "python",
   "nbconvert_exporter": "python",
   "pygments_lexer": "ipython3",
   "version": "3.11.5"
  }
 },
 "nbformat": 4,
 "nbformat_minor": 5
}
