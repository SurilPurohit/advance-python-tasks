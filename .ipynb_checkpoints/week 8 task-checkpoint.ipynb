{
 "cells": [
  {
   "cell_type": "markdown",
   "id": "792d723d",
   "metadata": {},
   "source": [
    "Q1. Write a function to find the longest common prefix string amongst an array of strings.\n",
    "\n",
    "If there is no common prefix, return an empty string \"\".\n",
    "\n",
    " \n",
    "\n",
    "Example 1:\n",
    "\n",
    "Input: strs = [\"flower\",\"flow\",\"flight\"]\n",
    "\n",
    "Output: \"fl\""
   ]
  },
  {
   "cell_type": "code",
   "execution_count": 9,
   "id": "c82577d0",
   "metadata": {},
   "outputs": [
    {
     "name": "stdout",
     "output_type": "stream",
     "text": [
      "fl\n"
     ]
    }
   ],
   "source": [
    "strs = [\"flower\",\"flow\",\"flight\"]\n",
    "\n",
    "if not strs:\n",
    "    print('') \n",
    "\n",
    "strs.sort()\n",
    "# print(strs)\n",
    "\n",
    "first = strs[0]\n",
    "last = strs[-1]\n",
    "\n",
    "i = 0\n",
    "while i < len(first) and i < len(last) and first[i] == last[i]:\n",
    "    i += 1\n",
    "\n",
    "print(first[:i])"
   ]
  },
  {
   "cell_type": "markdown",
   "id": "b0b68b19",
   "metadata": {},
   "source": [
    "Q2. Given an array nums of size n, return the majority element.\n",
    "\n",
    "The majority element is the element that appears more than ⌊n / 2⌋ times. You may assume that the majority element always exists in the array.\n",
    "\n",
    " \n",
    "\n",
    "Example 1:\n",
    "\n",
    "Input: nums = [3,2,3]\n",
    "\n",
    "Output: 3"
   ]
  },
  {
   "cell_type": "code",
   "execution_count": 2,
   "id": "530c82ae",
   "metadata": {},
   "outputs": [
    {
     "name": "stdout",
     "output_type": "stream",
     "text": [
      "3\n"
     ]
    }
   ],
   "source": [
    "nums = [3,2,3]\n",
    "d = {}\n",
    "ele = 0\n",
    "for i in nums:\n",
    "    d[i] = d.get(i, 0) + 1\n",
    "\n",
    "max_ele = 0\n",
    "for key in d:\n",
    "    if d[key] > max_ele:\n",
    "        max_ele = d[key]\n",
    "        ele = key\n",
    "print(ele)"
   ]
  }
 ],
 "metadata": {
  "kernelspec": {
   "display_name": "Python 3 (ipykernel)",
   "language": "python",
   "name": "python3"
  },
  "language_info": {
   "codemirror_mode": {
    "name": "ipython",
    "version": 3
   },
   "file_extension": ".py",
   "mimetype": "text/x-python",
   "name": "python",
   "nbconvert_exporter": "python",
   "pygments_lexer": "ipython3",
   "version": "3.11.5"
  }
 },
 "nbformat": 4,
 "nbformat_minor": 5
}
