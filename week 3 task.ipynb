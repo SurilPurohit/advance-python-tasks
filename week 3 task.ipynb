{
 "cells": [
  {
   "cell_type": "markdown",
   "id": "925ba35b",
   "metadata": {},
   "source": [
    "### 1-Write a Python program to find 4 numbers from an array such that the sum of 4 numbers equal to a given number.\n",
    "### Input : [1, 0, -1, 0, -2, 2,10,11], 0)\n",
    "### Output : [[-2, -1, 1, 2], [-2, 0, 0, 2], [-1, 0, 0, 1]]"
   ]
  },
  {
   "cell_type": "code",
   "execution_count": 20,
   "id": "3a2394bd",
   "metadata": {},
   "outputs": [
    {
     "name": "stdout",
     "output_type": "stream",
     "text": [
      "[[-2, -1, 1, 2], [-2, 0, 0, 2], [-1, 0, 0, 1]]\n"
     ]
    }
   ],
   "source": [
    "l = [1, 0, -1, 0, -2, 2,10,11]\n",
    "target = 0\n",
    "l1 = []\n",
    "l.sort()\n",
    "# print(l)\n",
    "res = []\n",
    "# for v in range(0, n):\n",
    "for i in range(0, n-3):\n",
    "    for j in range(i+1, n-2):\n",
    "        for k in range(j+1, n-1):\n",
    "            for m in range(k+1, n):\n",
    "                if l[i]+l[j]+l[k]+l[m] == target:\n",
    "                    l1.append(l[i])\n",
    "                    l1.append(l[j])\n",
    "                    l1.append(l[k])\n",
    "                    l1.append(l[m])\n",
    "                    res.append(l1)\n",
    "                    l1 = []\n",
    "print(res)"
   ]
  },
  {
   "cell_type": "markdown",
   "id": "59aef686",
   "metadata": {},
   "source": [
    "### 2-Write a Python program to find the single element appears once in a list where every element appears multiple times except for one. \n",
    "### Input : [1, 1, 1, 2, 2, 2, 3]\n",
    "### Output : 3"
   ]
  },
  {
   "cell_type": "code",
   "execution_count": 11,
   "id": "00722445",
   "metadata": {},
   "outputs": [
    {
     "name": "stdout",
     "output_type": "stream",
     "text": [
      "3\n"
     ]
    }
   ],
   "source": [
    "d = {}\n",
    "l = [1,1,1,2,2,2,3]\n",
    "for i in l:\n",
    "    d[i] = d.get(i, 0) + 1\n",
    "for key in d:\n",
    "    if d[key] == 1:\n",
    "        print(key)"
   ]
  },
  {
   "cell_type": "markdown",
   "id": "341b6957",
   "metadata": {},
   "source": [
    "### 3-Write a Python program to add the digits of a positive integer repeatedly until the result has a single digit. \n",
    "### Input : 48\n",
    "### Output : 3\n",
    "### For example given number is 59, the result will be 5.\n",
    "### Step 1: 5 + 9 = 14\n",
    "### Step 1: 1 + 4 = 5"
   ]
  },
  {
   "cell_type": "code",
   "execution_count": 46,
   "id": "fcc34e79",
   "metadata": {},
   "outputs": [
    {
     "name": "stdout",
     "output_type": "stream",
     "text": [
      "Enter a number: 59\n",
      "5\n"
     ]
    }
   ],
   "source": [
    "n = int(input('Enter a number: '))# 59\n",
    "while(len(str(n)) != 1):\n",
    "    total = 0\n",
    "    for i in str(n):\n",
    "        total += int(i)\n",
    "    n = total\n",
    "print(total)"
   ]
  }
 ],
 "metadata": {
  "kernelspec": {
   "display_name": "Python 3 (ipykernel)",
   "language": "python",
   "name": "python3"
  },
  "language_info": {
   "codemirror_mode": {
    "name": "ipython",
    "version": 3
   },
   "file_extension": ".py",
   "mimetype": "text/x-python",
   "name": "python",
   "nbconvert_exporter": "python",
   "pygments_lexer": "ipython3",
   "version": "3.11.5"
  }
 },
 "nbformat": 4,
 "nbformat_minor": 5
}
