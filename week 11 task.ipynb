{
 "cells": [
  {
   "cell_type": "markdown",
   "id": "0695f500",
   "metadata": {},
   "source": [
    "Q1 - You are given two integer arrays nums1 and nums2, sorted in non-decreasing order, and two integers m and n, representing the number of elements in nums1 and nums2 respectively.\n",
    "\n",
    "Merge nums1 and nums2 into a single array sorted in non-decreasing order.\n",
    "\n",
    "The final sorted array should not be returned by the function, but instead be stored inside the array nums1. To accommodate this, nums1 has a length of m + n, where the first m elements denote the elements that should be merged, and the last n elements are set to 0 and should be ignored. nums2 has a length of n.\n",
    "\n",
    "Example 1:\n",
    "\n",
    "Input: nums1 = [1,2,3,0,0,0], m = 3, nums2 = [2,5,6], n = 3\n",
    "\n",
    "Output: [1,2,2,3,5,6]\n",
    "\n",
    "Explanation: The arrays we are merging are [1,2,3] and [2,5,6].\n",
    "\n",
    "The result of the merge is [1,2,2,3,5,6] with the underlined elements coming from nums1."
   ]
  },
  {
   "cell_type": "code",
   "execution_count": 3,
   "id": "40ca400c",
   "metadata": {},
   "outputs": [],
   "source": [
    "def merge_list(num1, m, nums2, n):\n",
    "    j = 0\n",
    "    for i in range(m, m+n):\n",
    "        nums1[i] = nums2[j]\n",
    "        j += 1\n",
    "    nums1.sort()\n",
    "    return nums1"
   ]
  },
  {
   "cell_type": "code",
   "execution_count": 5,
   "id": "256efec4",
   "metadata": {},
   "outputs": [
    {
     "name": "stdout",
     "output_type": "stream",
     "text": [
      "[1, 2, 2, 3, 5, 6]\n"
     ]
    }
   ],
   "source": [
    "nums1 = [1,2,3,0,0,0]\n",
    "m,n = 3,3\n",
    "nums2 = [2,5,6]\n",
    "l = merge_list(nums1, m, nums2, n)\n",
    "print(l)"
   ]
  },
  {
   "cell_type": "markdown",
   "id": "c671115a",
   "metadata": {},
   "source": [
    "Q2- Given an input string s and a pattern p, implement regular expression matching with support for '.' and '*' where:\n",
    "\n",
    "* '.' Matches any single character.\n",
    "* '*' Matches zero or more of the preceding element.\n",
    "The matching should cover the entire input string (not partial).\n",
    "\n",
    "Example 1: Input: s = \"aa\", p = \"a\"\n",
    "\n",
    "Output: false\n",
    "\n",
    "Explanation: \"a\" does not match the entire string \"aa\".\n",
    "\n",
    "Example 2: Input: s = \"aa\", p = \"a*\"\n",
    "\n",
    "Output: true\n",
    "\n",
    "Explaination: '*' means zero or more of the preceding element, 'a'. Therefore, by repeating 'a' once, it becomes \"aa\"."
   ]
  },
  {
   "cell_type": "code",
   "execution_count": 2,
   "id": "c52dc156",
   "metadata": {},
   "outputs": [
    {
     "name": "stdout",
     "output_type": "stream",
     "text": [
      "False\n",
      "True\n"
     ]
    }
   ],
   "source": [
    "def isMatch(s, p):\n",
    "    # Check if the first character matches (or if the first pattern character is '.')\n",
    "    first_match = bool(s) and (p[0] == s[0] or p[0] == '.')\n",
    "\n",
    "    # If the next character in the pattern is '*', handle zero or more occurrences\n",
    "    if len(p) >= 2 and p[1] == '*':\n",
    "        return (isMatch(s, p[2:]) or\n",
    "                (first_match and isMatch(s[1:], p)))\n",
    "    else:\n",
    "        # If there's no '*', move to the next character in both s and p\n",
    "        return first_match and isMatch(s[1:], p[1:])\n",
    "\n",
    "# Example 1\n",
    "s1 = \"aa\"\n",
    "p1 = \"a\"\n",
    "print(isMatch(s1, p1))  # Output: False\n",
    "\n",
    "# Example 2\n",
    "s2 = \"aa\"\n",
    "p2 = \"a*\"\n",
    "print(isMatch(s2, p2))  # Output: True\n"
   ]
  },
  {
   "cell_type": "markdown",
   "id": "1b0175d7",
   "metadata": {},
   "source": [
    "Q3- A permutation of an array of integers is an arrangement of its members into a sequence or linear order.\n",
    "\n",
    "* For example, for arr = [1,2,3], the following are considered permutations of arr: [1,2,3], [1,3,2], [3,1,2], [2,3,1].\n",
    "\n",
    "The next permutation of an array of integers is the next lexicographically greater permutation of its integer. More formally, if all the permutations of the array are sorted in one container according to their lexicographical order, then the next permutation of that array is the permutation that follows it in the sorted container. If such arrangement is not possible, the array must be rearranged as the lowest possible order (i.e., sorted in ascending order).\n",
    "\n",
    "* For example, the next permutation of arr = [1,2,3] is [1,3,2].\n",
    "* Similarly, the next permutation of arr = [2,3,1] is [3,1,2].\n",
    "* While the next permutation of arr = [3,2,1] is [1,2,3] because [3,2,1] does not have a lexicographical larger rearrangement.\n",
    "\n",
    "Given an array of integers nums, find the next permutation of nums.\n",
    "\n",
    "The replacement must be in place and use only constant extra memory.\n",
    "\n",
    " Example 1:\n",
    "\n",
    "Input: nums = [1,2,3]\n",
    "Output: [1,3,2]"
   ]
  },
  {
   "cell_type": "code",
   "execution_count": 1,
   "id": "1cc517bf",
   "metadata": {},
   "outputs": [
    {
     "name": "stdout",
     "output_type": "stream",
     "text": [
      "[1, 3, 2]\n"
     ]
    }
   ],
   "source": [
    "def next_permutation(nums):\n",
    "    n = len(nums)\n",
    "    \n",
    "    # Step 1: Find the first decreasing element from the end\n",
    "    i = n - 2\n",
    "    while i >= 0 and nums[i] >= nums[i + 1]:\n",
    "        i -= 1\n",
    "    \n",
    "    if i >= 0:\n",
    "        # Step 2: Find the element to swap with\n",
    "        j = n - 1\n",
    "        while nums[j] <= nums[i]:\n",
    "            j -= 1\n",
    "        # Step 3: Swap the elements\n",
    "        nums[i], nums[j] = nums[j], nums[i]\n",
    "    \n",
    "    # Step 4: Reverse the suffix\n",
    "    left, right = i + 1, n - 1\n",
    "    while left < right:\n",
    "        nums[left], nums[right] = nums[right], nums[left]\n",
    "        left += 1\n",
    "        right -= 1\n",
    "\n",
    "# Example usage\n",
    "nums = [1, 2, 3]\n",
    "next_permutation(nums)\n",
    "print(nums)  # Output: [1, 3, 2]"
   ]
  }
 ],
 "metadata": {
  "kernelspec": {
   "display_name": "Python 3 (ipykernel)",
   "language": "python",
   "name": "python3"
  },
  "language_info": {
   "codemirror_mode": {
    "name": "ipython",
    "version": 3
   },
   "file_extension": ".py",
   "mimetype": "text/x-python",
   "name": "python",
   "nbconvert_exporter": "python",
   "pygments_lexer": "ipython3",
   "version": "3.11.5"
  }
 },
 "nbformat": 4,
 "nbformat_minor": 5
}
