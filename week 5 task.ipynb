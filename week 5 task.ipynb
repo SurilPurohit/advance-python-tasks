{
 "cells": [
  {
   "cell_type": "markdown",
   "id": "7c3538ed",
   "metadata": {},
   "source": [
    "### Write a Python program to find all the numbers from 0-9 from a string:\n",
    "\n",
    "input: '89ADFRE41'\n",
    "\n",
    "Output :[8941]"
   ]
  },
  {
   "cell_type": "code",
   "execution_count": 8,
   "id": "c02f6829",
   "metadata": {},
   "outputs": [
    {
     "name": "stdout",
     "output_type": "stream",
     "text": [
      "Enter a text to find numbers present89ADFRE41\n",
      "8941\n"
     ]
    }
   ],
   "source": [
    "import re\n",
    "txt = input('Enter a text to find numbers present: ') #'89ADFRE41'\n",
    "x = re.findall('[0-9]', txt)\n",
    "num = ''\n",
    "for i in x:\n",
    "    num += i\n",
    "print(num)"
   ]
  },
  {
   "cell_type": "markdown",
   "id": "6b02db9f",
   "metadata": {},
   "source": [
    "### Write a Python program to find two elements once in a list where every element appears exactly n times in the list. \n",
    "Input : [1, 2, 1, 3, 2, 5], 2    (n=2)\n",
    "\n",
    "Output :[5, 3]"
   ]
  },
  {
   "cell_type": "code",
   "execution_count": 13,
   "id": "b672e490",
   "metadata": {},
   "outputs": [
    {
     "name": "stdout",
     "output_type": "stream",
     "text": [
      "[3, 5]\n"
     ]
    }
   ],
   "source": [
    "d = {}\n",
    "l = [1,2,1,3,2,5]\n",
    "l1 = []\n",
    "for i in l:\n",
    "    d[i] = d.get(i, 0) + 1\n",
    "for key in d:\n",
    "    if d[key] == 1:\n",
    "#         print(type(key))\n",
    "        l1.append(key)\n",
    "print(l1)"
   ]
  },
  {
   "cell_type": "markdown",
   "id": "fee2225c",
   "metadata": {},
   "source": [
    "### Write a Python program to reverse the digits of an integer. \n",
    "Input : 234\n",
    "\n",
    "Output: 432\n",
    "\n",
    "Input : -234\n",
    "\n",
    "Output : -432"
   ]
  },
  {
   "cell_type": "code",
   "execution_count": 24,
   "id": "2f1eb927",
   "metadata": {},
   "outputs": [
    {
     "name": "stdout",
     "output_type": "stream",
     "text": [
      "432\n"
     ]
    }
   ],
   "source": [
    "num = 234\n",
    "no = ''\n",
    "flag = 0\n",
    "if num < 0:\n",
    "    flag = 1\n",
    "num = abs(num)\n",
    "while num != 0:\n",
    "    d = num%10\n",
    "#     print(d)\n",
    "    no += str(d)\n",
    "    num //= 10\n",
    "if flag == 0:\n",
    "    print(no)\n",
    "else:\n",
    "    print('-'+no)"
   ]
  }
 ],
 "metadata": {
  "kernelspec": {
   "display_name": "Python 3 (ipykernel)",
   "language": "python",
   "name": "python3"
  },
  "language_info": {
   "codemirror_mode": {
    "name": "ipython",
    "version": 3
   },
   "file_extension": ".py",
   "mimetype": "text/x-python",
   "name": "python",
   "nbconvert_exporter": "python",
   "pygments_lexer": "ipython3",
   "version": "3.11.5"
  }
 },
 "nbformat": 4,
 "nbformat_minor": 5
}
